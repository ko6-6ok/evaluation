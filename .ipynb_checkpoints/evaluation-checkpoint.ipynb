{
 "cells": [
  {
   "cell_type": "markdown",
   "metadata": {},
   "source": [
    "# 混同行列　Confusion matrix  \n",
    "\n",
    "真陽性は陽性クラスと予測され、結果も陽性クラスであった個数  \n",
    "真陰性は陰性クラスと予測され、結果も陰性クラスであった個数  \n",
    "偽陽性は陽性クラスと予測されたが、結果は陰性クラスであった個数  \n",
    "偽陰性は陰性クラスと予測されたが、結果は陽性クラスであった個数  \n",
    "\n",
    "|||予測||\n",
    "|:---:|:---:|:---:|:---:|\n",
    "||    |  P  |  N  |\n",
    "|実際|  P  |  真陽性<br>TP  |  疑陰性<br>FN  |\n",
    "||  N  |  偽陽性<br>FP  |  真陰性<br>TN  |\n"
   ]
  },
  {
   "cell_type": "markdown",
   "metadata": {},
   "source": [
    "# 正解率 accuracy  \n",
    "陽性・陰性と予測されたデータのうち、実際に陽性・陰性であるものの割合  \n",
    "# $$accuracy＝\\frac{TP + TN}{TP + TN + FN + FP}$$"
   ]
  },
  {
   "cell_type": "markdown",
   "metadata": {},
   "source": [
    "# 適合率/精度 precision  \n",
    "陽性と予測されたデータのうち、実際に陽性であるものの割合  \n",
    "# $$precision＝\\frac{TP}{TP + FP}$$"
   ]
  },
  {
   "cell_type": "markdown",
   "metadata": {},
   "source": [
    "# 再現率 recall  \n",
    "実際の陽性のデータのうち、陽性と予測できたものの割合  \n",
    "# $$recall＝\\frac{TP}{TP + FN}$$"
   ]
  },
  {
   "cell_type": "markdown",
   "metadata": {},
   "source": [
    "# F値 F-measure  \n",
    "適合率と再現率の調和平均  \n",
    "# $$F-measure＝2\\times \\frac{precision \\times recall}{precision + recall}$$"
   ]
  },
  {
   "cell_type": "markdown",
   "metadata": {},
   "source": [
    "# 例題\n",
    "正解率、適合率、再現率は？　（答えは文末）\n",
    "\n",
    "|    |  P  |  N  |\n",
    "|:---:|:---:|:---:|\n",
    "|  P  |  TP<br>2  |  FN<br>1  |\n",
    "|  N  |  FP<br>6  |  TN<br>3  |\n"
   ]
  },
  {
   "cell_type": "markdown",
   "metadata": {},
   "source": [
    "# メモ\n",
    "すべて 0~1の範囲の中で示され、値が1に近いほうが「性能が良い」"
   ]
  },
  {
   "cell_type": "code",
   "execution_count": 5,
   "metadata": {},
   "outputs": [
    {
     "name": "stdout",
     "output_type": "stream",
     "text": [
      "[[2 1]\n",
      " [0 3]]\n",
      "[[3 0]\n",
      " [1 2]]\n"
     ]
    }
   ],
   "source": [
    "# 混同行列\n",
    "import numpy\n",
    "from sklearn.metrics import confusion_matrix\n",
    "\n",
    "# データを格納します\n",
    "y_pred = [1,0,0,1,1,1]\n",
    "y_true = [0,0,0,1,1,1]\n",
    "\n",
    "# 変数confmatにy_trueとy_predの混同行列を格納します\n",
    "# 混同行列の、左から右・上から下は昇順（0→1）となりますので、\n",
    "# labelを指定しないと、0が陽性、1が陰性になります\n",
    "confmat=confusion_matrix(y_true,y_pred)\n",
    "\n",
    "# 結果を出力します\n",
    "print (confmat)\n",
    "\n",
    "# labelを指定して、1を陽性、0を陰性にします\n",
    "print(confusion_matrix(y_true,y_pred,labels=[1,0]))"
   ]
  },
  {
   "cell_type": "code",
   "execution_count": 7,
   "metadata": {},
   "outputs": [
    {
     "name": "stdout",
     "output_type": "stream",
     "text": [
      "[[3 0]\n",
      " [1 2]]\n",
      "accuracy:0.833\n",
      "precision:0.750\n",
      "recall:1.000\n",
      "F: 0.857\n"
     ]
    }
   ],
   "source": [
    "# 評価指標\n",
    "from sklearn.metrics import confusion_matrix, accuracy_score, precision_score, recall_score\n",
    "\n",
    "# データを格納します\n",
    "y_true = [1,1,1,0,0,0]\n",
    "y_pred = [0,1,1,0,0,0]\n",
    "print(confusion_matrix(y_true,y_pred,labels=[0,1])) # 0を陽性とします\n",
    "\n",
    "# 正解率、適合率、再現率\n",
    "# 正解率は指定しないと0が陽性\n",
    "accuracy = accuracy_score(y_true, y_pred)\n",
    "# 適合率、再現率は指定しないと1が陽性なので0を指定\n",
    "precision = precision_score(y_true, y_pred,pos_label=0)\n",
    "recall = recall_score(y_true, y_pred,pos_label=0)\n",
    "\n",
    "# 表示\n",
    "print(\"accuracy:%.3f\" % accuracy)\n",
    "print(\"precision:%.3f\" % precision)\n",
    "print(\"recall:%.3f\" % recall)\n",
    "\n",
    "# F値\n",
    "f_score =2 *(precision*recall) / (precision+recall)\n",
    "print(\"F: %.3f\" % f_score)"
   ]
  },
  {
   "cell_type": "markdown",
   "metadata": {},
   "source": [
    "# 例題の答え\n",
    "## 正解率 $$\\frac{5}{12}$$  \n",
    "## 適合率 $$\\frac{1}{4}$$\n",
    "## 再現率 $$\\frac{2}{3}$$"
   ]
  },
  {
   "cell_type": "code",
   "execution_count": null,
   "metadata": {},
   "outputs": [],
   "source": []
  }
 ],
 "metadata": {
  "kernelspec": {
   "display_name": "Python 3",
   "language": "python",
   "name": "python3"
  },
  "language_info": {
   "codemirror_mode": {
    "name": "ipython",
    "version": 3
   },
   "file_extension": ".py",
   "mimetype": "text/x-python",
   "name": "python",
   "nbconvert_exporter": "python",
   "pygments_lexer": "ipython3",
   "version": "3.5.5"
  }
 },
 "nbformat": 4,
 "nbformat_minor": 2
}
